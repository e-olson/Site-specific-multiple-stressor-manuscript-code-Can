{
 "cells": [
  {
   "cell_type": "code",
   "execution_count": 1,
   "id": "6396e069",
   "metadata": {},
   "outputs": [
    {
     "data": {
      "text/html": [
       "<style>.container { width:95% !important; }</style>"
      ],
      "text/plain": [
       "<IPython.core.display.HTML object>"
      ]
     },
     "metadata": {},
     "output_type": "display_data"
    }
   ],
   "source": [
    "import numpy as np\n",
    "import pandas as pd\n",
    "from Tools import commonfxns as cf, OAPBuoyData as OAP, mplRC, OAPBuoyComp as bc,viz, evalfxns as ev, \\\n",
    "    frequencyBands as fb, AlkFits as AF\n",
    "pd.set_option('display.max_columns', None)"
   ]
  },
  {
   "cell_type": "markdown",
   "id": "49b33c4f",
   "metadata": {},
   "source": [
    "### create table\n",
    "- mooring name (short title)\n",
    "- lat and lon\n",
    "- number of each type of data points\n",
    "- whether inclusion criteria met\n",
    "- whether obs trend was estimated\n",
    "- *alkalinity fit reference if any*"
   ]
  },
  {
   "cell_type": "code",
   "execution_count": 2,
   "id": "40268dee",
   "metadata": {},
   "outputs": [],
   "source": [
    "# load moorings table\n",
    "dfTable=pd.read_csv('table.csv',index_col=0)"
   ]
  },
  {
   "cell_type": "code",
   "execution_count": 3,
   "id": "6203d676",
   "metadata": {},
   "outputs": [
    {
     "data": {
      "text/plain": [
       "array(['CullisonGray', 'Fass2016a', 'Fass2016b', 'Fass2017', 'Hunt',\n",
       "       'Lee', 'None', 'Xue'], dtype=object)"
      ]
     },
     "execution_count": 3,
     "metadata": {},
     "output_type": "execute_result"
    }
   ],
   "source": [
    "np.unique(dfTable.AlkFit.values)"
   ]
  },
  {
   "cell_type": "code",
   "execution_count": 4,
   "id": "5954eeb0",
   "metadata": {},
   "outputs": [
    {
     "data": {
      "text/plain": [
       "Index(['datasetID', 'shortTitle', 'Lat', 'Lon', 'tos_N', 'tos_N2', 'tos_ofit',\n",
       "       'tos_mfit', 'sos_N', 'sos_N2', 'sos_ofit', 'sos_mfit', 'spco2_N',\n",
       "       'spco2_N2', 'spco2_ofit', 'spco2_mfit', 'phos_N', 'phos_N2',\n",
       "       'phos_ofit', 'phos_mfit', 'chlos_N', 'chlos_N2', 'chlos_ofit',\n",
       "       'chlos_mfit', 'o2os_N', 'o2os_N2', 'o2os_ofit', 'o2os_mfit', 'phosC_N',\n",
       "       'phosC_N2', 'phosC_ofit', 'phosC_mfit', 'AlkFit'],\n",
       "      dtype='object')"
      ]
     },
     "execution_count": 4,
     "metadata": {},
     "output_type": "execute_result"
    }
   ],
   "source": [
    "dfTable.keys()"
   ]
  },
  {
   "cell_type": "code",
   "execution_count": 5,
   "id": "4e9ab081",
   "metadata": {},
   "outputs": [],
   "source": [
    "citDict={'CullisonGray':r\"\\citet{CullisonGray2011}\", \n",
    "         'Fass2016a':r\"\\citet{Fassbender2016a}\", \n",
    "         'Fass2016b':r\"\\citet{Fassbender2016b}\", \n",
    "         'Fass2017':r\"\\citet{Fassbender2017}\", \n",
    "         'Hunt':'C. Hunt, University of New Hampshire, pers. comm. to A. Sutton',\n",
    "         'Lee':r\"\\citet{Lee2006}\", \n",
    "         'Xue':r\"\\citet{Xue2016}\",\n",
    "         'None':'None'}"
   ]
  },
  {
   "cell_type": "code",
   "execution_count": null,
   "id": "b9c2698a",
   "metadata": {},
   "outputs": [],
   "source": []
  },
  {
   "cell_type": "code",
   "execution_count": 6,
   "id": "496f1692",
   "metadata": {},
   "outputs": [],
   "source": [
    "dfTable.drop(dfTable.loc[dfTable.shortTitle.isin(['M2','JKEO'])].index,inplace=True)"
   ]
  },
  {
   "cell_type": "code",
   "execution_count": 7,
   "id": "11d8d1f9",
   "metadata": {},
   "outputs": [],
   "source": [
    "dfTable['Fit Citation']= [citDict[el] for el in dfTable.AlkFit.values]"
   ]
  },
  {
   "cell_type": "code",
   "execution_count": 8,
   "id": "0856b081",
   "metadata": {},
   "outputs": [],
   "source": [
    "dfTable['Region']=[OAP.regions[st] for st in dfTable.shortTitle.values]"
   ]
  },
  {
   "cell_type": "code",
   "execution_count": 9,
   "id": "19c0058b",
   "metadata": {
    "scrolled": false
   },
   "outputs": [
    {
     "data": {
      "text/html": [
       "<div>\n",
       "<style scoped>\n",
       "    .dataframe tbody tr th:only-of-type {\n",
       "        vertical-align: middle;\n",
       "    }\n",
       "\n",
       "    .dataframe tbody tr th {\n",
       "        vertical-align: top;\n",
       "    }\n",
       "\n",
       "    .dataframe thead th {\n",
       "        text-align: right;\n",
       "    }\n",
       "</style>\n",
       "<table border=\"1\" class=\"dataframe\">\n",
       "  <thead>\n",
       "    <tr style=\"text-align: right;\">\n",
       "      <th></th>\n",
       "      <th>shortTitle</th>\n",
       "      <th>Region</th>\n",
       "      <th>Fit Citation</th>\n",
       "    </tr>\n",
       "  </thead>\n",
       "  <tbody>\n",
       "    <tr>\n",
       "      <th>0</th>\n",
       "      <td>Iceland</td>\n",
       "      <td>North Atlantic Ocean</td>\n",
       "      <td>\\citet{Lee2006}</td>\n",
       "    </tr>\n",
       "    <tr>\n",
       "      <th>1</th>\n",
       "      <td>Gulf of Maine</td>\n",
       "      <td>US east coast</td>\n",
       "      <td>C. Hunt, University of New Hampshire, pers. co...</td>\n",
       "    </tr>\n",
       "    <tr>\n",
       "      <th>5</th>\n",
       "      <td>BTM</td>\n",
       "      <td>North Atlantic Ocean</td>\n",
       "      <td>\\citet{Lee2006}</td>\n",
       "    </tr>\n",
       "    <tr>\n",
       "      <th>6</th>\n",
       "      <td>Gray's Reef</td>\n",
       "      <td>US east coast</td>\n",
       "      <td>\\citet{Xue2016}</td>\n",
       "    </tr>\n",
       "    <tr>\n",
       "      <th>7</th>\n",
       "      <td>Coastal MS</td>\n",
       "      <td>Gulf of Mexico coast</td>\n",
       "      <td>\\citet{Lee2006}</td>\n",
       "    </tr>\n",
       "    <tr>\n",
       "      <th>8</th>\n",
       "      <td>Coastal LA</td>\n",
       "      <td>Gulf of Mexico coast</td>\n",
       "      <td>\\citet{Lee2006}</td>\n",
       "    </tr>\n",
       "    <tr>\n",
       "      <th>10</th>\n",
       "      <td>Stratus</td>\n",
       "      <td>Southeast Pacific Ocean</td>\n",
       "      <td>\\citet{Lee2006}</td>\n",
       "    </tr>\n",
       "    <tr>\n",
       "      <th>12</th>\n",
       "      <td>BOBOA</td>\n",
       "      <td>Indian Ocean</td>\n",
       "      <td>\\citet{Lee2006}</td>\n",
       "    </tr>\n",
       "    <tr>\n",
       "      <th>13</th>\n",
       "      <td>CCE1</td>\n",
       "      <td>Northeast Pacific Ocean</td>\n",
       "      <td>\\citet{CullisonGray2011}</td>\n",
       "    </tr>\n",
       "    <tr>\n",
       "      <th>14</th>\n",
       "      <td>CCE2</td>\n",
       "      <td>US west coast</td>\n",
       "      <td>\\citet{CullisonGray2011}</td>\n",
       "    </tr>\n",
       "    <tr>\n",
       "      <th>15</th>\n",
       "      <td>Cape Arago</td>\n",
       "      <td>US west coast</td>\n",
       "      <td>\\citet{CullisonGray2011}</td>\n",
       "    </tr>\n",
       "    <tr>\n",
       "      <th>16</th>\n",
       "      <td>NH-10</td>\n",
       "      <td>US west coast</td>\n",
       "      <td>\\citet{CullisonGray2011}</td>\n",
       "    </tr>\n",
       "    <tr>\n",
       "      <th>17</th>\n",
       "      <td>Cape Elizabeth</td>\n",
       "      <td>US west coast</td>\n",
       "      <td>\\citet{Fassbender2016a}</td>\n",
       "    </tr>\n",
       "    <tr>\n",
       "      <th>18</th>\n",
       "      <td>Cha ba</td>\n",
       "      <td>US west coast</td>\n",
       "      <td>\\citet{Fassbender2016a}</td>\n",
       "    </tr>\n",
       "    <tr>\n",
       "      <th>21</th>\n",
       "      <td>Kodiak</td>\n",
       "      <td>Alaskan coast</td>\n",
       "      <td>\\citet{Lee2006}</td>\n",
       "    </tr>\n",
       "    <tr>\n",
       "      <th>23</th>\n",
       "      <td>Papa</td>\n",
       "      <td>Northeast Pacific Ocean</td>\n",
       "      <td>\\citet{Fassbender2016b}</td>\n",
       "    </tr>\n",
       "    <tr>\n",
       "      <th>24</th>\n",
       "      <td>SOFS</td>\n",
       "      <td>Southern Ocean</td>\n",
       "      <td>\\citet{Lee2006}</td>\n",
       "    </tr>\n",
       "    <tr>\n",
       "      <th>26</th>\n",
       "      <td>KEO</td>\n",
       "      <td>Northwest Pacific Ocean</td>\n",
       "      <td>\\citet{Fassbender2017}</td>\n",
       "    </tr>\n",
       "    <tr>\n",
       "      <th>27</th>\n",
       "      <td>MOSEAN/WHOTS</td>\n",
       "      <td>Central Pacific Ocean</td>\n",
       "      <td>\\citet{Lee2006}</td>\n",
       "    </tr>\n",
       "    <tr>\n",
       "      <th>33</th>\n",
       "      <td>TAO170W</td>\n",
       "      <td>Equatorial Pacific Ocean</td>\n",
       "      <td>\\citet{Lee2006}</td>\n",
       "    </tr>\n",
       "    <tr>\n",
       "      <th>34</th>\n",
       "      <td>TAO165E</td>\n",
       "      <td>Equatorial Pacific Ocean</td>\n",
       "      <td>\\citet{Lee2006}</td>\n",
       "    </tr>\n",
       "    <tr>\n",
       "      <th>35</th>\n",
       "      <td>TAO8S165E</td>\n",
       "      <td>Equatorial Pacific Ocean</td>\n",
       "      <td>\\citet{Lee2006}</td>\n",
       "    </tr>\n",
       "    <tr>\n",
       "      <th>36</th>\n",
       "      <td>TAO155W</td>\n",
       "      <td>Equatorial Pacific Ocean</td>\n",
       "      <td>\\citet{Lee2006}</td>\n",
       "    </tr>\n",
       "    <tr>\n",
       "      <th>38</th>\n",
       "      <td>TAO140W</td>\n",
       "      <td>Equatorial Pacific Ocean</td>\n",
       "      <td>\\citet{Lee2006}</td>\n",
       "    </tr>\n",
       "    <tr>\n",
       "      <th>39</th>\n",
       "      <td>TAO125W</td>\n",
       "      <td>Equatorial Pacific Ocean</td>\n",
       "      <td>\\citet{Lee2006}</td>\n",
       "    </tr>\n",
       "    <tr>\n",
       "      <th>40</th>\n",
       "      <td>TAO110W</td>\n",
       "      <td>Equatorial Pacific Ocean</td>\n",
       "      <td>\\citet{Lee2006}</td>\n",
       "    </tr>\n",
       "  </tbody>\n",
       "</table>\n",
       "</div>"
      ],
      "text/plain": [
       "        shortTitle                    Region  \\\n",
       "0          Iceland      North Atlantic Ocean   \n",
       "1    Gulf of Maine             US east coast   \n",
       "5              BTM      North Atlantic Ocean   \n",
       "6      Gray's Reef             US east coast   \n",
       "7       Coastal MS      Gulf of Mexico coast   \n",
       "8       Coastal LA      Gulf of Mexico coast   \n",
       "10         Stratus   Southeast Pacific Ocean   \n",
       "12           BOBOA              Indian Ocean   \n",
       "13            CCE1   Northeast Pacific Ocean   \n",
       "14            CCE2             US west coast   \n",
       "15      Cape Arago             US west coast   \n",
       "16           NH-10             US west coast   \n",
       "17  Cape Elizabeth             US west coast   \n",
       "18          Cha ba             US west coast   \n",
       "21          Kodiak             Alaskan coast   \n",
       "23            Papa   Northeast Pacific Ocean   \n",
       "24            SOFS            Southern Ocean   \n",
       "26             KEO   Northwest Pacific Ocean   \n",
       "27    MOSEAN/WHOTS     Central Pacific Ocean   \n",
       "33         TAO170W  Equatorial Pacific Ocean   \n",
       "34         TAO165E  Equatorial Pacific Ocean   \n",
       "35       TAO8S165E  Equatorial Pacific Ocean   \n",
       "36         TAO155W  Equatorial Pacific Ocean   \n",
       "38         TAO140W  Equatorial Pacific Ocean   \n",
       "39         TAO125W  Equatorial Pacific Ocean   \n",
       "40         TAO110W  Equatorial Pacific Ocean   \n",
       "\n",
       "                                         Fit Citation  \n",
       "0                                     \\citet{Lee2006}  \n",
       "1   C. Hunt, University of New Hampshire, pers. co...  \n",
       "5                                     \\citet{Lee2006}  \n",
       "6                                     \\citet{Xue2016}  \n",
       "7                                     \\citet{Lee2006}  \n",
       "8                                     \\citet{Lee2006}  \n",
       "10                                    \\citet{Lee2006}  \n",
       "12                                    \\citet{Lee2006}  \n",
       "13                           \\citet{CullisonGray2011}  \n",
       "14                           \\citet{CullisonGray2011}  \n",
       "15                           \\citet{CullisonGray2011}  \n",
       "16                           \\citet{CullisonGray2011}  \n",
       "17                            \\citet{Fassbender2016a}  \n",
       "18                            \\citet{Fassbender2016a}  \n",
       "21                                    \\citet{Lee2006}  \n",
       "23                            \\citet{Fassbender2016b}  \n",
       "24                                    \\citet{Lee2006}  \n",
       "26                             \\citet{Fassbender2017}  \n",
       "27                                    \\citet{Lee2006}  \n",
       "33                                    \\citet{Lee2006}  \n",
       "34                                    \\citet{Lee2006}  \n",
       "35                                    \\citet{Lee2006}  \n",
       "36                                    \\citet{Lee2006}  \n",
       "38                                    \\citet{Lee2006}  \n",
       "39                                    \\citet{Lee2006}  \n",
       "40                                    \\citet{Lee2006}  "
      ]
     },
     "execution_count": 9,
     "metadata": {},
     "output_type": "execute_result"
    }
   ],
   "source": [
    "dfout=dfTable.loc[dfTable['Fit Citation']!='None',['shortTitle','Region','Fit Citation']].copy(deep=True)\n",
    "dfout"
   ]
  },
  {
   "cell_type": "code",
   "execution_count": 10,
   "id": "7fab147f",
   "metadata": {},
   "outputs": [],
   "source": [
    "trdict={'North Atlantic Ocean':'North Atlantic',\n",
    "        'Southeast Pacific Ocean':'Southeast Pacific',\n",
    "        'Northeast Pacific Ocean':'Northeast Pacific',\n",
    "        'Northwest Pacific Ocean':'Northwest Pacific',\n",
    "        'Central Pacific Ocean': 'Central Pacific',\n",
    "        'Equatorial Pacific Ocean':'Equatorial Pacific',\n",
    "        'Pacific island coral reef': 'Pacific Island CR',\n",
    "        'Caribbean coral reef': 'Caribbean CR',\n",
    "        'Atlantic coral reef': 'Atlantic CR',\n",
    "        'Gulf of Mexico coast': 'Gulf Mex. coast',\n",
    "        'MOSEAN/WHOTS': 'MOSEAN/ WHOTS'}"
   ]
  },
  {
   "cell_type": "code",
   "execution_count": 11,
   "id": "41ed7a07",
   "metadata": {},
   "outputs": [],
   "source": [
    "def fmt2(ss):\n",
    "    if type(ss)==str:\n",
    "        if ss in trdict.keys():\n",
    "            return trdict[ss]\n",
    "        else:\n",
    "            return ss\n",
    "    elif type(ss)==float:\n",
    "        return f'{ss:.1f}'\n",
    "    else:\n",
    "        return str(ss)"
   ]
  },
  {
   "cell_type": "code",
   "execution_count": 12,
   "id": "5b5ead81",
   "metadata": {},
   "outputs": [
    {
     "name": "stdout",
     "output_type": "stream",
     "text": [
      "Iceland & North Atlantic Ocean & \\citet{Lee2006}\n",
      "Gulf of Maine & US east coast & C. Hunt, University of New Hampshire, pers. comm. to A. Sutton\n",
      "BTM & North Atlantic Ocean & \\citet{Lee2006}\n",
      "Gray's Reef & US east coast & \\citet{Xue2016}\n",
      "Coastal MS & Gulf of Mexico coast & \\citet{Lee2006}\n",
      "Coastal LA & Gulf of Mexico coast & \\citet{Lee2006}\n",
      "Stratus & Southeast Pacific Ocean & \\citet{Lee2006}\n",
      "BOBOA & Indian Ocean & \\citet{Lee2006}\n",
      "CCE1 & Northeast Pacific Ocean & \\citet{CullisonGray2011}\n",
      "CCE2 & US west coast & \\citet{CullisonGray2011}\n",
      "Cape Arago & US west coast & \\citet{CullisonGray2011}\n",
      "NH-10 & US west coast & \\citet{CullisonGray2011}\n",
      "Cape Elizabeth & US west coast & \\citet{Fassbender2016a}\n",
      "Cha ba & US west coast & \\citet{Fassbender2016a}\n",
      "Kodiak & Alaskan coast & \\citet{Lee2006}\n",
      "Papa & Northeast Pacific Ocean & \\citet{Fassbender2016b}\n",
      "SOFS & Southern Ocean & \\citet{Lee2006}\n",
      "KEO & Northwest Pacific Ocean & \\citet{Fassbender2017}\n",
      "MOSEAN/WHOTS & Central Pacific Ocean & \\citet{Lee2006}\n",
      "TAO170W & Equatorial Pacific Ocean & \\citet{Lee2006}\n",
      "TAO165E & Equatorial Pacific Ocean & \\citet{Lee2006}\n",
      "TAO8S165E & Equatorial Pacific Ocean & \\citet{Lee2006}\n",
      "TAO155W & Equatorial Pacific Ocean & \\citet{Lee2006}\n",
      "TAO140W & Equatorial Pacific Ocean & \\citet{Lee2006}\n",
      "TAO125W & Equatorial Pacific Ocean & \\citet{Lee2006}\n",
      "TAO110W & Equatorial Pacific Ocean & \\citet{Lee2006}\n"
     ]
    }
   ],
   "source": [
    "for ind, row in dfout.iterrows():\n",
    "    print(' & '.join(row.values))"
   ]
  },
  {
   "cell_type": "code",
   "execution_count": 13,
   "id": "48334f5d",
   "metadata": {},
   "outputs": [],
   "source": [
    "lines=list()\n",
    "#lines.append(r'   \\small'+'\\n')\n",
    "#lines.append(r'   \\centering'+'\\n')\n",
    "lines.append(r\"\"\"\\setlength\\tabcolsep{4pt} % default value: 6pt\n",
    "    \\begin{longtable}{llp{0.5\\textwidth}}\n",
    "    \\caption{\\tblAlkFitsCaption}\n",
    "    \\label{tbl:AlkFits}\\\\\n",
    "    \\hline \n",
    "    \"\"\")\n",
    "\n",
    "head1=' & '.join([r\"\\multicolumn{1}{l}{\"+el+r\"}\" for el in ['Mooring','Region','Fit Citation']])\n",
    "lines.append(f'   {head1}'+r' \\\\'+'\\n')\n",
    "lines.append(r'   \\hline'+'\\n')\n",
    "lines.append(r\"\\endfirsthead\"+'\\n')\n",
    "\n",
    "lines.append(r\"\"\"\\multicolumn{3}{c}%\n",
    "    {\\tablename\\ \\thetable\\ -- \\textit{Continued from previous page}} \\\\\n",
    "    \\hline\n",
    "    \"\"\")\n",
    "lines.append(f'   {head1}'+r' \\\\'+'\\n')\n",
    "lines.append(r'   \\hline'+'\\n')\n",
    "lines.append(r\"\\endhead\"+'\\n')\n",
    "\n",
    "lines.append(r\"\"\"    \\hline \\multicolumn{3}{r}{\\textit{Continued on next page}} \\\\\n",
    "    \\endfoot\n",
    "    \\hline\n",
    "    \\endlastfoot\n",
    "    \"\"\")\n",
    "\n",
    "for ind, row in dfout.iterrows():\n",
    "    r=' & '.join(row.values)\n",
    "    lines.append(f'   {r} \\\\\\\\'+'\\n')\n",
    "lines.append(r'  \\end{longtable}')\n",
    "f = open('TableAlkFits.tex', 'w')\n",
    "f.writelines(lines)\n",
    "f.close()"
   ]
  }
 ],
 "metadata": {
  "kernelspec": {
   "display_name": "Python (py39dc)",
   "language": "python",
   "name": "py39dc"
  },
  "language_info": {
   "codemirror_mode": {
    "name": "ipython",
    "version": 3
   },
   "file_extension": ".py",
   "mimetype": "text/x-python",
   "name": "python",
   "nbconvert_exporter": "python",
   "pygments_lexer": "ipython3",
   "version": "3.9.16"
  }
 },
 "nbformat": 4,
 "nbformat_minor": 5
}

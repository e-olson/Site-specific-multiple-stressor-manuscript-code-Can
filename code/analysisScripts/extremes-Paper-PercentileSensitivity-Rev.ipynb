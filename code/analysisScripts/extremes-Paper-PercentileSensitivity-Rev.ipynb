{
 "cells": [
  {
   "cell_type": "markdown",
   "id": "206f4d95",
   "metadata": {},
   "source": [
    "## Calculate overlapping T and pH extremes obs and model- make figs for paper"
   ]
  },
  {
   "cell_type": "code",
   "execution_count": 1,
   "id": "f9a68f15",
   "metadata": {},
   "outputs": [
    {
     "data": {
      "text/html": [
       "<style>.container { width:95% !important; }</style>"
      ],
      "text/plain": [
       "<IPython.core.display.HTML object>"
      ]
     },
     "metadata": {},
     "output_type": "display_data"
    },
    {
     "name": "stdout",
     "output_type": "stream",
     "text": [
      "CPU times: user 3.35 s, sys: 2.03 s, total: 5.38 s\n",
      "Wall time: 33.5 s\n"
     ]
    }
   ],
   "source": [
    "%%time\n",
    "import numpy as np\n",
    "from matplotlib import colormaps as mplcm\n",
    "import matplotlib.pyplot as plt\n",
    "import matplotlib.gridspec as gridspec\n",
    "from matplotlib.ticker import MultipleLocator\n",
    "import pandas as pd\n",
    "from Tools import commonfxns as cf, OAPBuoyData as OAP, mplRC, OAPBuoyComp as bc,viz, evalfxns as ev, frequencyBands as fb\n",
    "import netCDF4 as nc\n",
    "import cftime\n",
    "import datetime as dt\n",
    "import cmocean\n",
    "#import gsw\n",
    "#from sklearn.linear_model import TheilSenRegressor\n",
    "import pickle\n",
    "import os\n",
    "#from IPython.display import Markdown, display, HTML\n",
    "#import astropy.timeseries as apt\n",
    "from collections import OrderedDict\n",
    "import warnings\n",
    "from matplotlib.colors import ListedColormap\n",
    "import xarray as xr\n",
    "from scipy import stats\n",
    "\n",
    "pd.set_option('display.max_rows', None)\n",
    "mplRC.paperRC2();"
   ]
  },
  {
   "cell_type": "code",
   "execution_count": 2,
   "id": "b2659768",
   "metadata": {},
   "outputs": [],
   "source": [
    "import matplotlib.ticker as mtick\n",
    "mtick.AutoLocator.__init__ = lambda self: mtick.MaxNLocator.__init__(self,nbins='auto',steps=[1,2,2.5,3,5,10])"
   ]
  },
  {
   "cell_type": "code",
   "execution_count": 3,
   "id": "081c1022",
   "metadata": {},
   "outputs": [],
   "source": [
    "minyears=3.4 # number of years of observation data required"
   ]
  },
  {
   "cell_type": "markdown",
   "id": "b2cc32f2",
   "metadata": {},
   "source": [
    "## first, identify the stations with the most combined T and estimated pH data"
   ]
  },
  {
   "cell_type": "code",
   "execution_count": 4,
   "id": "33e76c7d",
   "metadata": {},
   "outputs": [],
   "source": [
    "dfInfoBuoy=OAP.loadOAPInfo(modelgrid=True,modMeans=True)\n",
    "compsdir='/work/ebo/calcs/buoyCompTS/presentday/comps/'"
   ]
  },
  {
   "cell_type": "code",
   "execution_count": 5,
   "id": "df466eae",
   "metadata": {},
   "outputs": [],
   "source": [
    "dsid=OAP.getID('Maine')"
   ]
  },
  {
   "cell_type": "raw",
   "id": "e2faad97",
   "metadata": {},
   "source": [
    "\n",
    "[lat,lon], ldict, udict, df0, df = OAP.loadOAPBuoy(dfInfoBuoy,dsid,freq='daily',\n",
    "                                                   filtSSS=True,cCalcs=True)"
   ]
  },
  {
   "cell_type": "raw",
   "id": "70ada69e",
   "metadata": {},
   "source": [
    "df.keys()"
   ]
  },
  {
   "cell_type": "raw",
   "id": "b811fe88",
   "metadata": {},
   "source": [
    "iii=~pd.isnull(df.cc_pH_total_nanmean)&~pd.isnull(df.SST_nanmean)\n",
    "np.sum(iii) # =3727"
   ]
  },
  {
   "cell_type": "code",
   "execution_count": 6,
   "id": "d6fd1dc4",
   "metadata": {},
   "outputs": [],
   "source": [
    "cpath='/work/ebo/calcs/buoyCompTS/presentday/comps/'\n",
    "tcomp=bc.loadMoorComp(dsid,'tos',freq='daily',path=cpath)\n",
    "phCcomp=bc.loadMoorComp(dsid,'phosC',freq='daily',path=cpath)"
   ]
  },
  {
   "cell_type": "code",
   "execution_count": 7,
   "id": "62a9cb2e",
   "metadata": {},
   "outputs": [],
   "source": [
    "omcomp=bc.loadMoorComp(dsid,'omega_a_0',freq='daily',path=cpath)"
   ]
  },
  {
   "cell_type": "code",
   "execution_count": 8,
   "id": "1c80559c",
   "metadata": {},
   "outputs": [
    {
     "data": {
      "text/plain": [
       "Tools.evalfxns.timeSeriesComp(\n",
       "\t modvar=omega_a_0, stationID=pmel_co2_moorings_c2e7_ecb9_4565, staname=Gulf of Maine NOAA Surface Ocean CO2 and Ocean Acidification Mooring Time Series, freq=daily\n",
       "\t other instance variables:version,shortTitle,shortID,lat,lon,savepath,figsavepath,compsavepath,tref,yrfaco,yrfacm,mlen,obs_tdt,obs_val,dispName,dispUnits,dispNameUnits,obsvar,mod_tnl,mod_tdt,mod_val,obs_yd,obs_ym,iiOLo,mod_yd,mod_ym,mod_yind,obs_yind,fityrlen,iiOLm,obs_trange,mod_trange,OL_trange,trange,defaultfit,modfits,obsfits,mod_targetdind,obs_targetdind,target_datetime,mod_target,obs_target,obs_target_b,mod_targetdeseas,obs_targetdeseas,obs_targetdeseas_b,modfits_OL,obsfits_OL,mod_gsmooth,obs_gsmooth,obs_gsmooth_b,modfitlist,stats,mod_tind,obs_tind,obs_tind_b,mod_intt,obs_intt)"
      ]
     },
     "execution_count": 8,
     "metadata": {},
     "output_type": "execute_result"
    }
   ],
   "source": [
    "omcomp"
   ]
  },
  {
   "cell_type": "code",
   "execution_count": 9,
   "id": "dea9d12e",
   "metadata": {},
   "outputs": [],
   "source": [
    "def percMult(t,ph,thresh=95):\n",
    "    qt=np.nanpercentile(t,thresh)\n",
    "    qph=np.nanpercentile(ph,100-thresh)\n",
    "    it90=t>=qt\n",
    "    iph90=ph<=qph\n",
    "    ntot=np.sum(it90|iph90)\n",
    "    return np.sum(it90&iph90)/ntot*100, ntot, qt-np.median(t), np.median(ph)-qph"
   ]
  },
  {
   "cell_type": "markdown",
   "id": "f44cd3b5",
   "metadata": {},
   "source": [
    "### Percentile-based extreme definition on detrended, deseasonalized data"
   ]
  },
  {
   "cell_type": "code",
   "execution_count": 10,
   "id": "aba0f28f",
   "metadata": {},
   "outputs": [],
   "source": [
    "dfperc=dict()\n",
    "for tp in [85,90,95]:\n",
    "    res=[]\n",
    "    for dsid in dfInfoBuoy.datasetID.unique():\n",
    "        docalc=True\n",
    "        tcomp=bc.loadMoorComp(dsid,'tos',freq='daily',path=cpath)\n",
    "        phCcomp=bc.loadMoorComp(dsid,'phosC',freq='daily',path=cpath)\n",
    "        phCcomp2=bc.loadMoorComp(dsid,'phos',freq='daily',path=cpath)\n",
    "        if len(phCcomp2.obs_val)>len(phCcomp.obs_val): # La Parguera use phos (no phosC)\n",
    "            phCcomp=phCcomp2\n",
    "        if np.sum(~pd.isnull(tcomp.obs_targetdeseas))>0:\n",
    "            otvar=tcomp.obs_targetdeseas.astype(float)\n",
    "        elif np.sum(~pd.isnull(tcomp.obs_targetdeseas_b))>0:\n",
    "            otvar=tcomp.obs_targetdeseas_b.astype(float)\n",
    "        else:\n",
    "            docalc=False\n",
    "        if np.sum(~pd.isnull(phCcomp.obs_targetdeseas))>0:\n",
    "            ophvar=phCcomp.obs_targetdeseas.astype(float)\n",
    "        elif np.sum(~pd.isnull(phCcomp.obs_targetdeseas_b))>0:\n",
    "            ophvar=phCcomp.obs_targetdeseas_b.astype(float)\n",
    "        else:\n",
    "            docalc=False\n",
    "        if docalc:\n",
    "            obs_t=pd.DataFrame(np.array([tcomp.obs_tdt, otvar]).T,\n",
    "                             columns=['dtUTC','tos'])\n",
    "            obs_phC=pd.DataFrame(np.array([phCcomp.obs_tdt, ophvar]).T,\n",
    "                               columns=['dtUTC','phosC'])\n",
    "            obsdf=obs_t.merge(obs_phC,on='dtUTC')\n",
    "            if len(obsdf)>365.25*minyears:\n",
    "                mod_t=pd.DataFrame(np.array([tcomp.mod_tdt, tcomp.mod_targetdeseas.astype(float)]).T,\n",
    "                                 columns=['dtUTC','tos'])\n",
    "                mod_phC=pd.DataFrame(np.array([phCcomp.mod_tdt, phCcomp.mod_targetdeseas.astype(float)]).T,\n",
    "                                   columns=['dtUTC','phosC'])\n",
    "                moddf=mod_t.merge(mod_phC,on='dtUTC')\n",
    "                obscov=np.cov(np.array(obsdf.loc[:,['tos','phosC']].values.astype(float)).T)[1,0]\n",
    "                obscor=np.corrcoef(np.array(obsdf.loc[:,['tos','phosC']].values.astype(float)).T)[1,0]\n",
    "                modcov=np.cov(np.array(moddf.loc[:,['tos','phosC']].values.astype(float)).T)[1,0]\n",
    "                modcor=np.corrcoef(np.array(moddf.loc[:,['tos','phosC']].values.astype(float)).T)[1,0]\n",
    "                obspercTpH,obsN90,odt,odph=percMult(obsdf.tos,obsdf.phosC,tp)\n",
    "                modpercTpH,modN90,mdt,mdph=percMult(moddf.tos,moddf.phosC,tp)\n",
    "                obs_N=len(obsdf)\n",
    "                res.append([dsid,obscov,modcov,obscor,modcor,obspercTpH,modpercTpH,obs_N,obsN90,\n",
    "                            odt,odph,mdt,mdph])\n",
    "    dfout_detrenddeseas=pd.DataFrame(res,columns=['datasetID','obscov','modcov','obscor','modcor','obspercTpH',\n",
    "                                    'modpercTpH','obs_N','obs_N90',\n",
    "                                    'obsdeltaT','obsdeltapH','moddeltaT','moddeltaph'])\n",
    "    dfperc[tp]=dfout_detrenddeseas.copy(deep=True)"
   ]
  },
  {
   "cell_type": "code",
   "execution_count": 11,
   "id": "8c0801f5",
   "metadata": {},
   "outputs": [
    {
     "name": "stdout",
     "output_type": "stream",
     "text": [
      "slope:  -35.1260997836752\n",
      "p<.05?: p= 3.227003676478373e-05\n",
      "slope:  -33.538949509825656\n",
      "p<.05?: p= 0.00021318789304000427\n",
      "slope:  -29.953134167223357\n",
      "p<.05?: p= 0.0020683123830000046\n"
     ]
    },
    {
     "data": {
      "image/png": "[encoded data removed]",
      "text/plain": [
       "<Figure size 650x400 with 7 Axes>"
      ]
     },
     "metadata": {},
     "output_type": "display_data"
    }
   ],
   "source": [
    "fig,ax=plt.subplots(2,4,figsize=(6.5,4),gridspec_kw={'width_ratios':[1,1,1,.05],'wspace':.3,'hspace':.5})\n",
    "\n",
    "df=dfperc[85]\n",
    "iax=ax[0,0]\n",
    "iax.scatter(df.obspercTpH,df.modpercTpH,c=df.obs_N/365.25,s=10)\n",
    "viz.squareax(iax)\n",
    "xl0=iax.get_xlim()\n",
    "R=np.corrcoef(df.obspercTpH,df.modpercTpH)[1,0]\n",
    "bb=np.mean(df.modpercTpH.values-df.obspercTpH.values)\n",
    "iax.text(.98, .02, f\"bias$=${bb:.1f}\\nR={R:.2f}\", ha='right', va='bottom',\n",
    "         transform=iax.transAxes)\n",
    "iax=ax[1,0]\n",
    "xx=df.modcor-df.obscor\n",
    "yy=df.modpercTpH-df.obspercTpH\n",
    "m=iax.scatter(xx,yy,c=df.obs_N/365.25,s=10)\n",
    "ll=cf.linreg(xx,yy)\n",
    "xl=np.array([np.min(xx),np.max(xx)])\n",
    "iax.plot(xl,ll.coef[0]+ll.coef[1]*xl,'-',color='darkred',alpha=.7)\n",
    "iax.text(.02, .02, f\"R$^2$={ll.Rsq:.2f}\", ha='left', va='bottom',\n",
    "         color='darkred',transform=iax.transAxes)\n",
    "xlims=iax.get_xlim()\n",
    "ylims=iax.get_ylim()\n",
    "slope, intercept, r_value, p_value, std_err = stats.linregress(xx,yy)\n",
    "print('slope: ', slope)\n",
    "print('p<.05?: p=',p_value)\n",
    "\n",
    "df=dfperc[90]\n",
    "iax=ax[0,1]\n",
    "iax.scatter(df.obspercTpH,df.modpercTpH,c=df.obs_N/365.25,s=10)\n",
    "iax.set_xlim(xl0)\n",
    "R=np.corrcoef(df.obspercTpH,df.modpercTpH)[1,0]\n",
    "bb=np.mean(df.modpercTpH.values-df.obspercTpH.values)\n",
    "iax.text(.98, .02, f\"bias$=${bb:.1f}\\nR={R:.2f}\", ha='right', va='bottom',\n",
    "         transform=iax.transAxes)\n",
    "iax=ax[1,1]\n",
    "xx=df.modcor-df.obscor\n",
    "yy=df.modpercTpH-df.obspercTpH\n",
    "m=iax.scatter(xx,yy,c=df.obs_N/365.25,s=10)\n",
    "ll=cf.linreg(xx,yy)\n",
    "xl=np.array([np.min(xx),np.max(xx)])\n",
    "iax.plot(xl,ll.coef[0]+ll.coef[1]*xl,'-',color='darkred',alpha=.7)\n",
    "iax.text(.02, .02, f\"R$^2$={ll.Rsq:.2f}\", ha='left', va='bottom',\n",
    "         color='darkred',transform=iax.transAxes)\n",
    "iax.set_xlim(xlims)\n",
    "iax.set_ylim(ylims)\n",
    "slope, intercept, r_value, p_value, std_err = stats.linregress(xx,yy)\n",
    "print('slope: ', slope)\n",
    "print('p<.05?: p=',p_value)\n",
    "\n",
    "df=dfperc[95]\n",
    "iax=ax[0,2]\n",
    "iax.scatter(df.obspercTpH,df.modpercTpH,c=df.obs_N/365.25,s=10)\n",
    "iax.set_xlim(xl0)\n",
    "R=np.corrcoef(df.obspercTpH,df.modpercTpH)[1,0]\n",
    "bb=np.mean(df.modpercTpH.values-df.obspercTpH.values)\n",
    "iax.text(.98, .02, f\"bias$=${bb:.1f}\\nR={R:.2f}\", ha='right', va='bottom',\n",
    "         transform=iax.transAxes)\n",
    "iax=ax[1,2]\n",
    "xx=df.modcor-df.obscor\n",
    "yy=df.modpercTpH-df.obspercTpH\n",
    "m=iax.scatter(xx,yy,c=df.obs_N/365.25,s=10)\n",
    "ll=cf.linreg(xx,yy)\n",
    "xl=np.array([np.min(xx),np.max(xx)])\n",
    "iax.plot(xl,ll.coef[0]+ll.coef[1]*xl,'-',color='darkred',alpha=.7)\n",
    "iax.text(.02, .02, f\"R$^2$={ll.Rsq:.2f}\", ha='left', va='bottom',\n",
    "         color='darkred',transform=iax.transAxes)\n",
    "iax.set_xlim(xlims)\n",
    "iax.set_ylim(ylims)\n",
    "slope, intercept, r_value, p_value, std_err = stats.linregress(xx,yy)\n",
    "print('slope: ', slope)\n",
    "print('p<.05?: p=',p_value)\n",
    "\n",
    "cb=fig.colorbar(m,cax=ax[0,3])\n",
    "ax[0,3].set_ylabel('Observation\\nDuration (years)')\n",
    "\n",
    "\n",
    "ax[0,0].set_ylabel('% Multistressor Extreme\\nDays, Model',labelpad=1)\n",
    "ax[1,0].set_ylabel('Multistressor Bias')\n",
    "for iax in ax[1,:-1]:\n",
    "    iax.set_xlabel('Correlation Bias')\n",
    "    iax.axhline(0,color='lightgray',linestyle=':')\n",
    "    iax.axvline(0,color='lightgray',linestyle=':')\n",
    "for iax in ax[0,:-1]:\n",
    "    iax.set_xlabel('Observations')\n",
    "    viz.squareax(iax)\n",
    "for iax in ax[:,0]:\n",
    "    iax.set_title('85$^{th}$ Percentile Threshold')\n",
    "for iax in ax[:,1]:\n",
    "    iax.set_title('90$^{th}$ Percentile Threshold')\n",
    "for iax in ax[:,2]:\n",
    "    iax.set_title('95$^{th}$ Percentile Threshold')\n",
    "#for iax in ax[0,0]:\n",
    "# for iax in ax[3,:4]:\n",
    "#     iax.set_xlabel('Observations')\n",
    "# for iax in ax[:,:4].flatten():\n",
    "#     viz.squareax(iax)\n",
    "# for iax in ax[1:,4]:\n",
    "ax[-1,-1].remove()\n",
    "fig.savefig('/home/ebo/OAPMSE/paperFigs/modObsExtremesPercentileSens_Rev.png',dpi=400,bbox_inches='tight')"
   ]
  },
  {
   "cell_type": "code",
   "execution_count": null,
   "id": "c4a10669",
   "metadata": {},
   "outputs": [],
   "source": []
  }
 ],
 "metadata": {
  "kernelspec": {
   "display_name": "Python (py39dc)",
   "language": "python",
   "name": "py39dc"
  },
  "language_info": {
   "codemirror_mode": {
    "name": "ipython",
    "version": 3
   },
   "file_extension": ".py",
   "mimetype": "text/x-python",
   "name": "python",
   "nbconvert_exporter": "python",
   "pygments_lexer": "ipython3",
   "version": "3.9.16"
  }
 },
 "nbformat": 4,
 "nbformat_minor": 5
}
